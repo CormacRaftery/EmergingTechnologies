{
 "cells": [
  {
   "cell_type": "markdown",
   "metadata": {},
   "source": [
    "# Digit recognition\n",
    "By Cormac Raftery(G00348802)"
   ]
  },
  {
   "cell_type": "markdown",
   "metadata": {},
   "source": [
    "# Contents\n",
    "\n",
    "\n",
    "- Introduction \n",
    "- Folder Structure\n",
    "- How To Run\n",
    "- How The Program Works\n",
    "    - Home Page\n",
    "    - Post Page\n",
    "    - Prepare The Data\n",
    "    - Build model\n",
    "- References"
   ]
  },
  {
   "cell_type": "markdown",
   "metadata": {},
   "source": [
    "## Introduction\n",
    "\n",
    "The goal of this repository is to create, document, and train a model that recognises hand-written digits\n",
    "using the MNIST dataset.\n",
    "Create a web application that allows a user to draw a digit using\n",
    "their mouse or touchscreen device. The drawing should then be then be submitted\n",
    "for recognition to the model you have trained above. This should be done using\n",
    "the flask Python package."
   ]
  },
  {
   "cell_type": "markdown",
   "metadata": {},
   "source": [
    "## Folder Structure\n",
    "\n",
    "Upon cloning the repository you should see the FlaskApp.py and DigitRecognition.py scripts. There should also be a folder for the created model and a static folder for the web app Draw.html."
   ]
  },
  {
   "cell_type": "markdown",
   "metadata": {},
   "source": [
    "## How To Run\n",
    "\n",
    "To run this programme, there are a few things you must set up. You must have:\n",
    "\n",
    "Anaconda installed -> Install anaconda\n",
    "Install tensorflow -> Open an administrator cmd and type \"conda install tensorflow\"\n",
    "Install opencv -> Open an administrator cmd and type \"conda install opencv\"\n",
    "Install keras -> Open an administrator cmd and type \"conda install keras\"\n",
    "\n",
    "It is important to run all commands in an Administrator Command Prompt\n",
    "\n",
    "To run this program, you must open command prompt in the directory with FlaskApp.py and input the following:\n",
    "\n",
    "python FlaskApp.py\n",
    "\n",
    "You must then open a web browser and go to localhost:5000"
   ]
  },
  {
   "cell_type": "markdown",
   "metadata": {},
   "source": [
    "## How the programme works\n",
    "\n"
   ]
  },
  {
   "cell_type": "markdown",
   "metadata": {},
   "source": [
    "### Home Page\n",
    "\n",
    "The flask app pushes the draw page in the static folder to the localhost and waits for prediction button to be pressed"
   ]
  },
  {
   "cell_type": "code",
   "execution_count": 1,
   "metadata": {},
   "outputs": [
    {
     "ename": "NameError",
     "evalue": "name 'app' is not defined",
     "output_type": "error",
     "traceback": [
      "\u001b[1;31m---------------------------------------------------------------------------\u001b[0m",
      "\u001b[1;31mNameError\u001b[0m                                 Traceback (most recent call last)",
      "\u001b[1;32m<ipython-input-1-38afe79eb281>\u001b[0m in \u001b[0;36m<module>\u001b[1;34m()\u001b[0m\n\u001b[1;32m----> 1\u001b[1;33m \u001b[1;33m@\u001b[0m\u001b[0mapp\u001b[0m\u001b[1;33m.\u001b[0m\u001b[0mroute\u001b[0m\u001b[1;33m(\u001b[0m\u001b[1;34m'/'\u001b[0m\u001b[1;33m)\u001b[0m\u001b[1;33m\u001b[0m\u001b[0m\n\u001b[0m\u001b[0;32m      2\u001b[0m \u001b[1;32mdef\u001b[0m \u001b[0mhomePage\u001b[0m\u001b[1;33m(\u001b[0m\u001b[1;33m)\u001b[0m\u001b[1;33m:\u001b[0m\u001b[1;33m\u001b[0m\u001b[0m\n\u001b[0;32m      3\u001b[0m     \u001b[1;32mreturn\u001b[0m \u001b[0mapp\u001b[0m\u001b[1;33m.\u001b[0m\u001b[0msend_static_file\u001b[0m\u001b[1;33m(\u001b[0m\u001b[1;34m'Draw.html'\u001b[0m\u001b[1;33m)\u001b[0m\u001b[1;33m\u001b[0m\u001b[0m\n",
      "\u001b[1;31mNameError\u001b[0m: name 'app' is not defined"
     ]
    }
   ],
   "source": [
    "@app.route('/')\n",
    "def homePage():\n",
    "    return app.send_static_file('Draw.html')"
   ]
  },
  {
   "cell_type": "markdown",
   "metadata": {},
   "source": [
    "### Post Page\n",
    "\n",
    "Upon the prediction button being pressed the post method searches for a bit 64 image and converts the image to black and white, then converts it to an array and sends it to DigitRecognition.py to be compared against the model"
   ]
  },
  {
   "cell_type": "code",
   "execution_count": null,
   "metadata": {},
   "outputs": [],
   "source": [
    "@app.route('/', methods=['POST'])\n",
    "def getImage():\n",
    "    #Retrieving Base64 image data\n",
    "    imgBase64 = request.values['imageBase64']\n",
    "\n",
    "    #Strips the image of unnecessary contents(similar  to PIL vid)\n",
    "    imgStripped = re.sub('^data:image/.+;base64,', '', imgBase64)\n",
    "\n",
    "    #Decodes the image from Base64\n",
    "    imgDecoded = base64.b64decode(imgStripped)\n",
    "\n",
    "    #Converting the decoded image to bytes\n",
    "    img = Image.open(BytesIO(imgDecoded))\n",
    "\n",
    "    #Convert the image to grayscale\n",
    "    img = img.convert('L')\n",
    "\n",
    "    #Resizes the image to the required size of 28x28 using Bilinear mode\n",
    "    img = img.resize((28, 28), Image.ANTIALIAS)\n",
    "    \n",
    "    #converts image to black and white \n",
    "    img = img.point(lambda p: p > 0 and 255)  \n",
    "\n",
    "    #Convert the image to an array\n",
    "    myArray = np.ndarray.flatten(np.array(img))\n",
    "\n",
    "    #reshape the array to a 1d array\n",
    "    myArray = myArray.reshape(1,784)\n",
    "\n",
    "    #convert to type float32\n",
    "    myArray = myArray.astype('float32')\n",
    "    \n",
    "    #divide all floats in the array so that they either have a value of 1 or 0\n",
    "    myArray /= 255\n",
    "    \n",
    "     #Prints out the image in console\n",
    "    counter = 0\n",
    "    for i in myArray[0]:\n",
    "        if i == 1:\n",
    "           print(\"0\",end=\"\")\n",
    "        else:\n",
    "           print(\".\",end=\"\")\n",
    "        counter +=1\n",
    "\n",
    "        if counter == 28:\n",
    "            print(\"\\n\")\n",
    "            counter = 0\n",
    "\n",
    "    #Calls function prediction in DigitRecognition.py\n",
    "    myPrediction = prediction(myArray)\n",
    "\n",
    "    #Prints Prediction\n",
    "    print(\"The number mostly resembles a: \")\n",
    "    print(myPrediction)\n",
    "\n",
    "    #Sends prediction back to the user.\n",
    "    return str(myPrediction)"
   ]
  },
  {
   "cell_type": "markdown",
   "metadata": {},
   "source": [
    "### Prepare the Data\n",
    "\n",
    "The data from the MNIST data set must be loaded into memory before it can be used. Once loaded the data must be reshaped to size 784(28*28) as that is the size of our image. We must also convert the set to a binary representation so it can be used to calculate the loss on the model."
   ]
  },
  {
   "cell_type": "code",
   "execution_count": null,
   "metadata": {},
   "outputs": [],
   "source": [
    "    # load data\n",
    "    (x_train,y_train), (x_test,y_test) = mnist.load_data()\n",
    "\n",
    "    #reshape the array to a 1d array\n",
    "    x_test = x_test.reshape(x_test.shape[0], 784)\n",
    "    x_train = x_train.reshape(x_train.shape[0], 784)\n",
    "\n",
    "    #set array types to  float32\n",
    "    x_test = x_test.astype('float32')\n",
    "    x_train = x_train.astype('float32')\n",
    "\n",
    "    #convert the array to black and white\n",
    "    x_test /= 255\n",
    "    x_train /= 255\n",
    "\n",
    "    #Adds layers for 10 classes\n",
    "    y_test = keras.utils.to_categorical(y_test, 10)\n",
    "    y_train = keras.utils.to_categorical(y_train, 10)"
   ]
  },
  {
   "cell_type": "markdown",
   "metadata": {},
   "source": [
    "### Build Model\n",
    "\n",
    "The model is now being created using Sequential as it allows us to use a linear stack of layers. This is created from 3 dense nerural network layers. The input shape is 784 while the output shape is 16. Once the model has been built it can then be compared  against."
   ]
  },
  {
   "cell_type": "code",
   "execution_count": null,
   "metadata": {},
   "outputs": [],
   "source": [
    "    # create model\n",
    "    model = Sequential()\n",
    "    model.add(Dense(16, input_dim=784, activation='relu'))\n",
    "    model.add(Dense(16, activation='relu'))\n",
    "    model.add(Dense(10, activation='softmax'))\n",
    "\n",
    "    #compile the model\n",
    "    model.compile(optimizer='sgd', loss='categorical_crossentropy', metrics=['accuracy'])\n",
    "\n",
    "    #fit model to the training data\n",
    "    model.fit(x_train, y_train, batch_size=100, epochs=10, verbose=1)\n",
    "\n",
    "    #save the model\n",
    "    model.save(\"models/model\")\n"
   ]
  },
  {
   "cell_type": "markdown",
   "metadata": {},
   "source": [
    "## References\n",
    "\n",
    "https://www.python.org/\n",
    "\n",
    "https://keras.io/\n",
    "\n",
    "http://yann.lecun.com/exdb/mnist/\n",
    "\n",
    "https://nextjournal.com/gkoehler/digit-recognition-with-keras\n",
    "\n",
    "https://api.jquery.com/jQuery.post/\n",
    "\n",
    "http://www.williammalone.com/articles/create-html5-canvas-javascript-drawing-app/\n",
    "\n",
    "https://www.fullstackpython.com/flask.html\n",
    "\n",
    "https://medium.com/ibm-data-science-experience/markdown-for-jupyter-notebooks-cheatsheet-386c05aeebed"
   ]
  }
 ],
 "metadata": {
  "kernelspec": {
   "display_name": "Python 3",
   "language": "python",
   "name": "python3"
  },
  "language_info": {
   "codemirror_mode": {
    "name": "ipython",
    "version": 3
   },
   "file_extension": ".py",
   "mimetype": "text/x-python",
   "name": "python",
   "nbconvert_exporter": "python",
   "pygments_lexer": "ipython3",
   "version": "3.6.5"
  }
 },
 "nbformat": 4,
 "nbformat_minor": 2
}
